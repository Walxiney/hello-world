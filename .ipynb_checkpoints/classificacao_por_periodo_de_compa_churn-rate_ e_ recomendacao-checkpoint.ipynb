{
 "cells": [
  {
   "cell_type": "code",
   "execution_count": 2,
   "metadata": {},
   "outputs": [],
   "source": [
    "# importando libs\n",
    "import pandas as pd\n",
    "import numpy as np\n"
   ]
  },
  {
   "cell_type": "code",
   "execution_count": 4,
   "metadata": {},
   "outputs": [],
   "source": [
    "dt_vendas = pd.read_excel(\"C:\\\\Users\\\\walxi\\\\Desktop\\\\Portifolio Data Science\\\\Estudo 18-04-2020\\\\Data_set_vendas.xlsx\")"
   ]
  },
  {
   "cell_type": "code",
   "execution_count": 6,
   "metadata": {},
   "outputs": [
    {
     "data": {
      "text/html": [
       "<div>\n",
       "<style scoped>\n",
       "    .dataframe tbody tr th:only-of-type {\n",
       "        vertical-align: middle;\n",
       "    }\n",
       "\n",
       "    .dataframe tbody tr th {\n",
       "        vertical-align: top;\n",
       "    }\n",
       "\n",
       "    .dataframe thead th {\n",
       "        text-align: right;\n",
       "    }\n",
       "</style>\n",
       "<table border=\"1\" class=\"dataframe\">\n",
       "  <thead>\n",
       "    <tr style=\"text-align: right;\">\n",
       "      <th></th>\n",
       "      <th>ID.operação</th>\n",
       "      <th>id.cliente</th>\n",
       "      <th>camisa</th>\n",
       "      <th>calça</th>\n",
       "      <th>sapato</th>\n",
       "      <th>cinto</th>\n",
       "      <th>gravata</th>\n",
       "      <th>meia</th>\n",
       "      <th>data</th>\n",
       "    </tr>\n",
       "  </thead>\n",
       "  <tbody>\n",
       "    <tr>\n",
       "      <td>0</td>\n",
       "      <td>100</td>\n",
       "      <td>1a</td>\n",
       "      <td>1</td>\n",
       "      <td>1</td>\n",
       "      <td>1</td>\n",
       "      <td>0</td>\n",
       "      <td>0</td>\n",
       "      <td>0</td>\n",
       "      <td>2019-01-10</td>\n",
       "    </tr>\n",
       "    <tr>\n",
       "      <td>1</td>\n",
       "      <td>101</td>\n",
       "      <td>1a</td>\n",
       "      <td>1</td>\n",
       "      <td>1</td>\n",
       "      <td>0</td>\n",
       "      <td>1</td>\n",
       "      <td>1</td>\n",
       "      <td>0</td>\n",
       "      <td>2019-02-15</td>\n",
       "    </tr>\n",
       "    <tr>\n",
       "      <td>2</td>\n",
       "      <td>102</td>\n",
       "      <td>1a</td>\n",
       "      <td>0</td>\n",
       "      <td>0</td>\n",
       "      <td>1</td>\n",
       "      <td>0</td>\n",
       "      <td>1</td>\n",
       "      <td>1</td>\n",
       "      <td>2019-03-05</td>\n",
       "    </tr>\n",
       "    <tr>\n",
       "      <td>3</td>\n",
       "      <td>103</td>\n",
       "      <td>1a</td>\n",
       "      <td>1</td>\n",
       "      <td>0</td>\n",
       "      <td>0</td>\n",
       "      <td>1</td>\n",
       "      <td>1</td>\n",
       "      <td>1</td>\n",
       "      <td>2019-05-10</td>\n",
       "    </tr>\n",
       "    <tr>\n",
       "      <td>4</td>\n",
       "      <td>104</td>\n",
       "      <td>1a</td>\n",
       "      <td>0</td>\n",
       "      <td>1</td>\n",
       "      <td>1</td>\n",
       "      <td>0</td>\n",
       "      <td>0</td>\n",
       "      <td>0</td>\n",
       "      <td>2019-06-20</td>\n",
       "    </tr>\n",
       "  </tbody>\n",
       "</table>\n",
       "</div>"
      ],
      "text/plain": [
       "   ID.operação id.cliente  camisa  calça  sapato  cinto  gravata  meia  \\\n",
       "0          100         1a       1      1       1      0        0     0   \n",
       "1          101         1a       1      1       0      1        1     0   \n",
       "2          102         1a       0      0       1      0        1     1   \n",
       "3          103         1a       1      0       0      1        1     1   \n",
       "4          104         1a       0      1       1      0        0     0   \n",
       "\n",
       "        data  \n",
       "0 2019-01-10  \n",
       "1 2019-02-15  \n",
       "2 2019-03-05  \n",
       "3 2019-05-10  \n",
       "4 2019-06-20  "
      ]
     },
     "execution_count": 6,
     "metadata": {},
     "output_type": "execute_result"
    }
   ],
   "source": [
    "dt_vendas.head(5)"
   ]
  },
  {
   "cell_type": "code",
   "execution_count": 157,
   "metadata": {},
   "outputs": [],
   "source": [
    "df_6 = dt_vendas[[\"id.cliente\", \"data\"]]"
   ]
  },
  {
   "cell_type": "code",
   "execution_count": 158,
   "metadata": {
    "scrolled": true
   },
   "outputs": [
    {
     "data": {
      "text/plain": [
       "id.cliente            object\n",
       "data          datetime64[ns]\n",
       "dtype: object"
      ]
     },
     "execution_count": 158,
     "metadata": {},
     "output_type": "execute_result"
    }
   ],
   "source": [
    "df_6.dtypes"
   ]
  },
  {
   "cell_type": "code",
   "execution_count": 159,
   "metadata": {},
   "outputs": [
    {
     "data": {
      "text/html": [
       "<div>\n",
       "<style scoped>\n",
       "    .dataframe tbody tr th:only-of-type {\n",
       "        vertical-align: middle;\n",
       "    }\n",
       "\n",
       "    .dataframe tbody tr th {\n",
       "        vertical-align: top;\n",
       "    }\n",
       "\n",
       "    .dataframe thead th {\n",
       "        text-align: right;\n",
       "    }\n",
       "</style>\n",
       "<table border=\"1\" class=\"dataframe\">\n",
       "  <thead>\n",
       "    <tr style=\"text-align: right;\">\n",
       "      <th></th>\n",
       "      <th>id.cliente</th>\n",
       "      <th>data</th>\n",
       "    </tr>\n",
       "  </thead>\n",
       "  <tbody>\n",
       "    <tr>\n",
       "      <td>0</td>\n",
       "      <td>1a</td>\n",
       "      <td>2019-01-10</td>\n",
       "    </tr>\n",
       "    <tr>\n",
       "      <td>1</td>\n",
       "      <td>1a</td>\n",
       "      <td>2019-02-15</td>\n",
       "    </tr>\n",
       "    <tr>\n",
       "      <td>2</td>\n",
       "      <td>1a</td>\n",
       "      <td>2019-03-05</td>\n",
       "    </tr>\n",
       "    <tr>\n",
       "      <td>3</td>\n",
       "      <td>1a</td>\n",
       "      <td>2019-05-10</td>\n",
       "    </tr>\n",
       "    <tr>\n",
       "      <td>4</td>\n",
       "      <td>1a</td>\n",
       "      <td>2019-06-20</td>\n",
       "    </tr>\n",
       "    <tr>\n",
       "      <td>5</td>\n",
       "      <td>1a</td>\n",
       "      <td>2019-07-10</td>\n",
       "    </tr>\n",
       "    <tr>\n",
       "      <td>6</td>\n",
       "      <td>2b</td>\n",
       "      <td>2018-02-10</td>\n",
       "    </tr>\n",
       "    <tr>\n",
       "      <td>7</td>\n",
       "      <td>2b</td>\n",
       "      <td>2018-05-06</td>\n",
       "    </tr>\n",
       "    <tr>\n",
       "      <td>8</td>\n",
       "      <td>2b</td>\n",
       "      <td>2018-08-20</td>\n",
       "    </tr>\n",
       "    <tr>\n",
       "      <td>9</td>\n",
       "      <td>2b</td>\n",
       "      <td>2018-10-05</td>\n",
       "    </tr>\n",
       "  </tbody>\n",
       "</table>\n",
       "</div>"
      ],
      "text/plain": [
       "  id.cliente       data\n",
       "0         1a 2019-01-10\n",
       "1         1a 2019-02-15\n",
       "2         1a 2019-03-05\n",
       "3         1a 2019-05-10\n",
       "4         1a 2019-06-20\n",
       "5         1a 2019-07-10\n",
       "6         2b 2018-02-10\n",
       "7         2b 2018-05-06\n",
       "8         2b 2018-08-20\n",
       "9         2b 2018-10-05"
      ]
     },
     "execution_count": 159,
     "metadata": {},
     "output_type": "execute_result"
    }
   ],
   "source": [
    "df_6.head(10)"
   ]
  },
  {
   "cell_type": "code",
   "execution_count": 161,
   "metadata": {
    "collapsed": true
   },
   "outputs": [
    {
     "name": "stdout",
     "output_type": "stream",
     "text": [
      "0\n",
      "ok\n",
      "1\n",
      "ok\n",
      "2\n",
      "ok\n",
      "3\n",
      "ok\n",
      "4\n",
      "ok\n",
      "5\n",
      "6\n",
      "ok\n",
      "7\n",
      "ok\n",
      "8\n",
      "ok\n",
      "9\n",
      "ok\n",
      "10\n",
      "ok\n",
      "11\n",
      "12\n",
      "ok\n",
      "13\n",
      "ok\n",
      "14\n",
      "ok\n",
      "15\n",
      "ok\n",
      "16\n",
      "ok\n",
      "17\n",
      "18\n",
      "ok\n",
      "19\n",
      "ok\n",
      "20\n",
      "ok\n",
      "21\n",
      "ok\n",
      "22\n",
      "ok\n",
      "23\n",
      "24\n",
      "ok\n",
      "25\n",
      "ok\n",
      "26\n",
      "ok\n",
      "27\n",
      "ok\n",
      "28\n",
      "ok\n",
      "29\n"
     ]
    },
    {
     "name": "stderr",
     "output_type": "stream",
     "text": [
      "C:\\ProgramData\\Anaconda3\\lib\\site-packages\\ipykernel_launcher.py:38: DeprecationWarning: The truth value of an empty array is ambiguous. Returning False, but in future this will result in an error. Use `array.size > 0` to check that an array is not empty.\n"
     ]
    }
   ],
   "source": [
    "# variaveis utilizadas para montar o dataframe\n",
    "l1 = 0\n",
    "l2 = 1\n",
    "j1 = 0\n",
    "j2 = 1\n",
    "\n",
    "l3 = 1\n",
    "l4 = 2\n",
    "j3 = 1\n",
    "j4 = 2\n",
    "\n",
    "Z = pd.DataFrame()\n",
    "ZZ = pd.DataFrame()\n",
    "W = [np.nan]\n",
    "\n",
    "# loop para gerar a coluna com o tempo entre uma cadencia e outra,\n",
    "# gerando também o calculo da média do tempo entre cada cadencia da ON e preenchendo \n",
    "# no para a ultima cadencia da ON.\n",
    "# OBS.: Demora em média de uns 10 minutos rodando\n",
    "for row in df_6.iterrows():\n",
    "    print(l1)\n",
    "    \n",
    "    #print(df_6.iloc[l1:l2,j1:j2])\n",
    "    A1 = df_6.iloc[l1:l2,j1:j2]\n",
    "    \n",
    "    #print(df_6.iloc[l1:l2,j3:j4])\n",
    "    B1 = df_6.iloc[l1:l2,j3:j4]\n",
    "    \n",
    "    #print(df_6.iloc[l3:l4,j1:j2])\n",
    "    A2 = df_6.iloc[l3:l4,j1:j2]\n",
    "    \n",
    "    #print(df_6.iloc[l3:l4,j3:j4])\n",
    "    B2 = df_6.iloc[l3:l4,j3:j4]\n",
    "    \n",
    "    l3 += 1  #l1 + 1\n",
    "    l4 += 1  #l2 + 1\n",
    "    \n",
    "    if A1.values == A2.values:\n",
    "        print('ok')\n",
    "        K = [(B2['data'].reset_index(drop=True)-B1['data'].reset_index(drop=True)).dt.days]\n",
    "        J = pd.DataFrame(K)\n",
    "        #Z = Z.append(K)\n",
    "        Z = pd.concat([A1.reset_index(drop=True), J.reset_index(drop=True)], axis = 1)\n",
    "        ZZ = ZZ.append(Z)\n",
    "    else:\n",
    "        #ZZ = ZZ.append(W)\n",
    "        k = A1.values[0]\n",
    "        #ZZ.update(ZZ['Id_ON'].fillna(k[0]))\n",
    "        \n",
    "        Z_k = ZZ[ZZ['id.cliente'] == k[0]]\n",
    "        K = [abs(Z_k[0].mean())]\n",
    "        #ZZ.update(ZZ[0].fillna(K[0]))\n",
    "\n",
    "        J = pd.DataFrame(K)\n",
    "        Z = pd.concat([A1.reset_index(drop=True), J.reset_index(drop=True)], axis = 1)\n",
    "        ZZ = ZZ.append(Z)\n",
    "        #Z = Z.append(W)\n",
    "\n",
    "    l2 += 1\n",
    "    l1 += 1\n",
    "# deletando variaveis que não são mais utilizadas    \n",
    "del A1, B1, A2, B2, K, k, J, Z, Z_k, W, row\n",
    "del l1, l2, l3, l4,\n",
    "del j1, j2, j3, j4"
   ]
  },
  {
   "cell_type": "code",
   "execution_count": 169,
   "metadata": {
    "collapsed": true
   },
   "outputs": [
    {
     "name": "stdout",
     "output_type": "stream",
     "text": [
      "   id.cliente      0\n",
      "0          1a   36.0\n",
      "1          1a   18.0\n",
      "2          1a   66.0\n",
      "3          1a   41.0\n",
      "4          1a   20.0\n",
      "5          1a   36.2\n",
      "6          2b   85.0\n",
      "7          2b  106.0\n",
      "8          2b   46.0\n",
      "9          2b   86.0\n",
      "10         2b   65.0\n",
      "11         2b   77.6\n",
      "12         3c  186.0\n",
      "13         3c   99.0\n",
      "14         3c  186.0\n",
      "15         3c  126.0\n",
      "16         3c  174.0\n",
      "17         3c  154.2\n",
      "18         4d  127.0\n",
      "19         4d   77.0\n",
      "20         4d  115.0\n",
      "21         4d  131.0\n",
      "22         4d   85.0\n",
      "23         4d  107.0\n",
      "24         5d  102.0\n",
      "25         5d   69.0\n",
      "26         5d  141.0\n",
      "27         5d  101.0\n",
      "28         5d   89.0\n",
      "29         5d  100.4\n"
     ]
    }
   ],
   "source": [
    "# criando o dataframe para receber os dados do dataframe gerado pelo loop\n",
    "# resetando o index do Z2\n",
    "Z2 = pd.DataFrame(ZZ)\n",
    "Z2.reset_index(inplace = True, drop = True)\n",
    "print(Z2)"
   ]
  },
  {
   "cell_type": "code",
   "execution_count": 170,
   "metadata": {},
   "outputs": [],
   "source": [
    "# obtendo o index a partir o do d_6\n",
    "df_8 = pd.DataFrame(df_6.index)"
   ]
  },
  {
   "cell_type": "code",
   "execution_count": 171,
   "metadata": {
    "scrolled": true
   },
   "outputs": [
    {
     "name": "stdout",
     "output_type": "stream",
     "text": [
      "    tempo_entre_compra\n",
      "0                     \n",
      "0                 36.0\n",
      "1                 18.0\n",
      "2                 66.0\n",
      "3                 41.0\n",
      "4                 20.0\n",
      "5                 36.2\n",
      "6                 85.0\n",
      "7                106.0\n",
      "8                 46.0\n",
      "9                 86.0\n",
      "10                65.0\n",
      "11                77.6\n",
      "12               186.0\n",
      "13                99.0\n",
      "14               186.0\n",
      "15               126.0\n",
      "16               174.0\n",
      "17               154.2\n",
      "18               127.0\n",
      "19                77.0\n",
      "20               115.0\n",
      "21               131.0\n",
      "22                85.0\n",
      "23               107.0\n",
      "24               102.0\n",
      "25                69.0\n",
      "26               141.0\n",
      "27               101.0\n",
      "28                89.0\n",
      "29               100.4\n"
     ]
    }
   ],
   "source": [
    "# colocando o index armazenado em df_8 junto ao Z2, e tornando a coluna do df_8 como novo index\n",
    "# em seguida renomeando a coluna que possui o tempo entre uma cadencia e outra\n",
    "df_9 = pd.concat([df_8, Z2[0]], axis = 1, ignore_index = True)\n",
    "df_9 = df_9.set_index(0)\n",
    "df_9 = df_9.rename(columns = {1 : 'tempo_entre_compra' })\n",
    "print(df_9)"
   ]
  },
  {
   "cell_type": "code",
   "execution_count": 173,
   "metadata": {},
   "outputs": [
    {
     "name": "stdout",
     "output_type": "stream",
     "text": [
      "   id.cliente       data  tempo_entre_compra\n",
      "0          1a 2019-01-10                36.0\n",
      "1          1a 2019-02-15                18.0\n",
      "2          1a 2019-03-05                66.0\n",
      "3          1a 2019-05-10                41.0\n",
      "4          1a 2019-06-20                20.0\n",
      "5          1a 2019-07-10                36.2\n",
      "6          2b 2018-02-10                85.0\n",
      "7          2b 2018-05-06               106.0\n",
      "8          2b 2018-08-20                46.0\n",
      "9          2b 2018-10-05                86.0\n",
      "10         2b 2018-12-30                65.0\n",
      "11         2b 2019-03-05                77.6\n",
      "12         3c 2018-02-20               186.0\n",
      "13         3c 2018-08-25                99.0\n",
      "14         3c 2018-12-02               186.0\n",
      "15         3c 2019-06-06               126.0\n",
      "16         3c 2019-10-10               174.0\n",
      "17         3c 2020-04-01               154.2\n",
      "18         4d 2018-06-25               127.0\n",
      "19         4d 2018-10-30                77.0\n",
      "20         4d 2019-01-15               115.0\n",
      "21         4d 2019-05-10               131.0\n",
      "22         4d 2019-09-18                85.0\n",
      "23         4d 2019-12-12               107.0\n",
      "24         5d 2018-02-13               102.0\n",
      "25         5d 2018-05-26                69.0\n",
      "26         5d 2018-08-03               141.0\n",
      "27         5d 2018-12-22               101.0\n",
      "28         5d 2019-04-02                89.0\n",
      "29         5d 2019-06-30               100.4\n"
     ]
    }
   ],
   "source": [
    "df_10 = pd.concat([df_6, df_9], axis = 1)\n",
    "print(df_10)"
   ]
  },
  {
   "cell_type": "code",
   "execution_count": null,
   "metadata": {},
   "outputs": [],
   "source": [
    "# fazer o concat entre o dataframe completo e a coluna que calculou o tempo entre cada compra\n",
    "..."
   ]
  },
  {
   "cell_type": "code",
   "execution_count": null,
   "metadata": {},
   "outputs": [],
   "source": [
    "# criar grupos/classificações: 1 mês, 2 meses, 3 meses, 4 meses, 6 meses... verificar oque fica mais interessante\n",
    "# 12/x sendo que x é a fração que deseja dividir o ano esemplo 12/3 = 4 logo seriam os clientes que compram de 4 em 4 meses\n",
    "..."
   ]
  },
  {
   "cell_type": "code",
   "execution_count": null,
   "metadata": {},
   "outputs": [],
   "source": [
    "# fazer o calculo da média de tempo para cada cliente, aplicar o arredondamento e ver em que grupo ele se encaixa\n",
    "..."
   ]
  },
  {
   "cell_type": "code",
   "execution_count": null,
   "metadata": {},
   "outputs": [],
   "source": [
    "# aplicar as determinadas labels de acordo com a média de tempo entre cada compra\n",
    "..."
   ]
  },
  {
   "cell_type": "code",
   "execution_count": null,
   "metadata": {},
   "outputs": [],
   "source": [
    "# tendo os clientes classificados treinar um modelo de ML para fazer a classificação de um novo cliente\n",
    "..."
   ]
  },
  {
   "cell_type": "code",
   "execution_count": null,
   "metadata": {},
   "outputs": [],
   "source": [
    "# usando os dados de resposta montar uma foma de informar o usuario que deve contatar o cliente\n",
    "..."
   ]
  },
  {
   "cell_type": "code",
   "execution_count": null,
   "metadata": {},
   "outputs": [],
   "source": [
    "# montar uma forma de analisar o cliente que não compra a muito tempo, por exemplo a média de compra é de 4 meses,\n",
    "# mas fazem 5 meses ou mais que ele não compra, pode ser pegando a data de ultima compra subtraindo da data atual e verificando \n",
    "# se é superior ao resultado da média de compra ou o resultado da label, e aplicar tecnicas de churn\n",
    "..."
   ]
  },
  {
   "cell_type": "code",
   "execution_count": null,
   "metadata": {},
   "outputs": [],
   "source": [
    "# montar o modelo de recomendação apoiado no histórico de compras dos clientes\n",
    "..."
   ]
  },
  {
   "cell_type": "code",
   "execution_count": null,
   "metadata": {},
   "outputs": [],
   "source": [
    "# cruzar modelo de ecomendação com o aviso de contatar o cliente\n",
    "..."
   ]
  }
 ],
 "metadata": {
  "kernelspec": {
   "display_name": "Python 3",
   "language": "python",
   "name": "python3"
  },
  "language_info": {
   "codemirror_mode": {
    "name": "ipython",
    "version": 3
   },
   "file_extension": ".py",
   "mimetype": "text/x-python",
   "name": "python",
   "nbconvert_exporter": "python",
   "pygments_lexer": "ipython3",
   "version": "3.6.9"
  }
 },
 "nbformat": 4,
 "nbformat_minor": 2
}
